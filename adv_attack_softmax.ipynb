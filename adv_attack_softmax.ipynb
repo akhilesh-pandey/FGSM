{
 "cells": [
  {
   "cell_type": "code",
   "execution_count": 15,
   "metadata": {
    "collapsed": false
   },
   "outputs": [],
   "source": [
    "import torch.utils.data as data\n",
    "import torchvision.transforms as transforms\n",
    "import torch.nn as nn\n",
    "import torch\n",
    "import torchvision.datasets as dsets\n",
    "import numpy as np\n",
    "import matplotlib.pyplot as plt\n",
    "import scipy\n",
    "import torch.nn.functional as F"
   ]
  },
  {
   "cell_type": "markdown",
   "metadata": {},
   "source": [
    "** Loading Dataset **"
   ]
  },
  {
   "cell_type": "code",
   "execution_count": 2,
   "metadata": {
    "collapsed": false
   },
   "outputs": [],
   "source": [
    "train_dataset= dsets.MNIST(root='./data', train= True, transform= transforms.ToTensor(), download= False)"
   ]
  },
  {
   "cell_type": "code",
   "execution_count": 3,
   "metadata": {
    "collapsed": true
   },
   "outputs": [],
   "source": [
    "test_dataset=  dsets.MNIST(root='./data', train= False, transform= transforms.ToTensor())"
   ]
  },
  {
   "cell_type": "code",
   "execution_count": 4,
   "metadata": {
    "collapsed": false
   },
   "outputs": [
    {
     "data": {
      "text/plain": [
       "10000"
      ]
     },
     "execution_count": 4,
     "metadata": {},
     "output_type": "execute_result"
    }
   ],
   "source": [
    "len(test_dataset)"
   ]
  },
  {
   "cell_type": "markdown",
   "metadata": {},
   "source": [
    "** Making Dataset Iterable**"
   ]
  },
  {
   "cell_type": "code",
   "execution_count": 5,
   "metadata": {
    "collapsed": false
   },
   "outputs": [],
   "source": [
    "batch_size= 32\n",
    "num_epochs= 15"
   ]
  },
  {
   "cell_type": "code",
   "execution_count": 6,
   "metadata": {
    "collapsed": false
   },
   "outputs": [],
   "source": [
    "train_loader= data.DataLoader(dataset= train_dataset, batch_size= batch_size, shuffle= True)\n",
    "\n",
    "test_loader= data.DataLoader(dataset= test_dataset, batch_size=batch_size, shuffle=False)\n",
    "\n",
    "valid_loader= data.DataLoader(train_dataset, batch_size)"
   ]
  },
  {
   "cell_type": "code",
   "execution_count": 7,
   "metadata": {
    "collapsed": false
   },
   "outputs": [
    {
     "name": "stdout",
     "output_type": "stream",
     "text": [
      "torch.Size([32, 1, 28, 28])\n",
      "tensor(2)\n"
     ]
    },
    {
     "data": {
      "image/png": "[encoded data removed]",
      "text/plain": [
       "<matplotlib.figure.Figure at 0x7f4cd8c7c4e0>"
      ]
     },
     "metadata": {},
     "output_type": "display_data"
    }
   ],
   "source": [
    "for x,y in test_loader:\n",
    "    plt.imshow(x.data[1].numpy().reshape(28,28),cmap='gray')\n",
    "    bakarax = x.data[1]\n",
    "    bakaray = y.data[0]\n",
    "    print(x.size()) # givs [ batch_size, channels, height, width]\n",
    "    print(y.data[1])\n",
    "    break"
   ]
  },
  {
   "cell_type": "markdown",
   "metadata": {},
   "source": [
    "** Create Class Model **"
   ]
  },
  {
   "cell_type": "code",
   "execution_count": 8,
   "metadata": {
    "collapsed": true
   },
   "outputs": [],
   "source": [
    "class LogisticRegressionModel(nn.Module):\n",
    "    def __init__(self, input_dim, output_dim):\n",
    "        super(LogisticRegressionModel,self).__init__()\n",
    "        self.linear= nn.Linear(input_dim, output_dim)\n",
    "        #self.sigmoid= nn.Sigmoid()\n",
    "        \n",
    "    def forward(self,x):\n",
    "        out= self.linear(x)\n",
    "        #return self.sigmoid(out)\n",
    "        return out\n",
    "    "
   ]
  },
  {
   "cell_type": "markdown",
   "metadata": {},
   "source": [
    "** Instatiate Model Class **"
   ]
  },
  {
   "cell_type": "code",
   "execution_count": 9,
   "metadata": {
    "collapsed": true
   },
   "outputs": [],
   "source": [
    "input_dim= 28 * 28\n",
    "output_dim= 10\n",
    "model = LogisticRegressionModel(input_dim, output_dim)"
   ]
  },
  {
   "cell_type": "markdown",
   "metadata": {},
   "source": [
    "** Instantiate Loss Class ** "
   ]
  },
  {
   "cell_type": "code",
   "execution_count": 10,
   "metadata": {
    "collapsed": true
   },
   "outputs": [],
   "source": [
    "criterion= nn.CrossEntropyLoss()"
   ]
  },
  {
   "cell_type": "markdown",
   "metadata": {},
   "source": [
    "** Instantiate Optimizer Class **"
   ]
  },
  {
   "cell_type": "code",
   "execution_count": 11,
   "metadata": {
    "collapsed": true
   },
   "outputs": [],
   "source": [
    "learning_rate= 0.001\n",
    "optimizer= torch.optim.RMSprop(model.parameters(), learning_rate)\n"
   ]
  },
  {
   "cell_type": "code",
   "execution_count": 12,
   "metadata": {
    "collapsed": false
   },
   "outputs": [
    {
     "name": "stdout",
     "output_type": "stream",
     "text": [
      "LogisticRegressionModel(\n",
      "  (linear): Linear(in_features=784, out_features=10, bias=True)\n",
      ")\n"
     ]
    }
   ],
   "source": [
    "print(model)"
   ]
  },
  {
   "cell_type": "markdown",
   "metadata": {},
   "source": [
    "** Train the model **"
   ]
  },
  {
   "cell_type": "code",
   "execution_count": 13,
   "metadata": {
    "collapsed": false
   },
   "outputs": [],
   "source": [
    "import time\n",
    "def train(net, batch_size, n_epochs, lr= learning_rate, criterion= criterion, optimizer= optimizer):\n",
    "    \n",
    "    #Print all the hyperparameters of the training iteration:\n",
    "    print(\"====================== Hyperparameters =====================\")\n",
    "    print(\"      Batch_size: {}   Epochs: {}    Learning_rate {}\".format(batch_size, n_epochs, lr))\n",
    "    print(\"=\" * 60)\n",
    "    \n",
    "    #Time for printing\n",
    "    training_start_time= time.time()\n",
    "    \n",
    "    for epoch in range(n_epochs):\n",
    "        \n",
    "        running_loss= 0.0\n",
    "        total_train_loss= 0.0\n",
    "        #print_every= n_batches // 10 # Counter to print loss after every 10 batches\n",
    "        \n",
    "        for i, (images, labels) in enumerate(train_loader):\n",
    "            \n",
    "            batch_start_time= time.time()\n",
    "        \n",
    "            images= images.view(-1,28*28)\n",
    "            \n",
    "            #Forward + Backward + Optimize\n",
    "            optimizer.zero_grad()\n",
    "            outputs= net(images)\n",
    "            loss= criterion(outputs, labels)\n",
    "            loss.backward()\n",
    "            optimizer.step()\n",
    "            \n",
    "            #Statistics\n",
    "            running_loss += loss.data.item()\n",
    "          \n",
    "    \n",
    "    test(model)"
   ]
  },
  {
   "cell_type": "code",
   "execution_count": 14,
   "metadata": {
    "collapsed": true
   },
   "outputs": [],
   "source": [
    "def test(net, loader= test_loader):\n",
    "    \n",
    "    correct= 0.0\n",
    "    total= 0\n",
    "    \n",
    "    for images, labels in test_loader:\n",
    "        images= images.view(-1,28*28)\n",
    "        output= net(images)\n",
    "        _,predict= torch.max(output.data, 1)\n",
    "        \n",
    "        correct += (predict == labels.data).sum()\n",
    "        total += labels.size(0)\n",
    "        \n",
    "    accuracy =  correct * 100. / len(test_dataset)\n",
    "    print(\"\\nTest Accuracy {:.5f}\\n\".format(accuracy))\n",
    "        "
   ]
  },
  {
   "cell_type": "code",
   "execution_count": 51,
   "metadata": {
    "collapsed": false,
    "scrolled": true
   },
   "outputs": [
    {
     "name": "stdout",
     "output_type": "stream",
     "text": [
      "====================== Hyperparameters =====================\n",
      "      Batch_size: 32   Epochs: 15    Learning_rate 0.001\n",
      "============================================================\n",
      "Epoch 1, train_loss:  0.02, Time-taken: 0.005 seconds\n",
      "Epoch 2, train_loss:  0.00, Time-taken: 0.000 seconds\n",
      "Epoch 3, train_loss:  0.00, Time-taken: 0.000 seconds\n",
      "Epoch 4, train_loss:  0.00, Time-taken: 0.000 seconds\n",
      "Epoch 5, train_loss:  0.00, Time-taken: 0.000 seconds\n",
      "Epoch 6, train_loss:  0.00, Time-taken: 0.000 seconds\n",
      "Epoch 7, train_loss:  0.00, Time-taken: 0.000 seconds\n",
      "Epoch 8, train_loss:  0.00, Time-taken: 0.000 seconds\n",
      "Epoch 9, train_loss:  0.00, Time-taken: 0.001 seconds\n",
      "Epoch 10, train_loss:  0.00, Time-taken: 0.000 seconds\n",
      "Epoch 11, train_loss:  0.00, Time-taken: 0.000 seconds\n",
      "Epoch 12, train_loss:  0.01, Time-taken: 0.000 seconds\n",
      "Epoch 13, train_loss:  0.00, Time-taken: 0.000 seconds\n",
      "Epoch 14, train_loss:  0.00, Time-taken: 0.000 seconds\n",
      "Epoch 15, train_loss:  0.00, Time-taken: 0.000 seconds\n",
      "Training Time 62.52455377578735\n",
      "\n",
      "Test Accuracy 92.00000\n",
      "\n"
     ]
    }
   ],
   "source": [
    "train(model, batch_size, num_epochs, learning_rate)\n",
    "#test(model, loader= test_loader)"
   ]
  },
  {
   "cell_type": "markdown",
   "metadata": {},
   "source": [
    "** Extract Weights of the model**"
   ]
  },
  {
   "cell_type": "markdown",
   "metadata": {
    "collapsed": false
   },
   "source": [
    "params= list(model.parameters())\n",
    "print(\"Length of parameters\" + str(len(params)))\n",
    "\n",
    "#print weights\n",
    "w= params[0]\n",
    "w= w.detach().numpy()\n",
    "#plt.imshow(w.reshape(-1,np.sqrt(784)),cmap='gray')\n",
    "\n",
    "#let idx be the class index we want to visualize\n",
    "idx= 5\n",
    "plt.imshow(w[idx].reshape(-1,28),cmap='gray')"
   ]
  },
  {
   "cell_type": "markdown",
   "metadata": {
    "collapsed": false
   },
   "source": [
    "#print bias\n",
    "\n",
    "b= params[1]\n",
    "b= b.detach().numpy()\n",
    "print(b.shape)\n",
    "plt.imshow(b.reshape(10,1), cmap='gray')\n",
    "plt.show()"
   ]
  },
  {
   "cell_type": "markdown",
   "metadata": {},
   "source": [
    "** Adversarial Example generation ** \n",
    "\n",
    "Let us make the test data as adversarial examples\n"
   ]
  },
  {
   "cell_type": "code",
   "execution_count": null,
   "metadata": {
    "collapsed": true
   },
   "outputs": [],
   "source": [
    "def adv_attack(net, loader= test_loader, epsilon= 0.1):\n",
    "    adv_samples= []\n",
    "    target_tensor= []\n",
    "    model.eval()\n",
    "    \n",
    "    for inputs, targets in loader:\n",
    "        if cuda:\n",
    "            inputs, targets = inputs.cuda(), targets.cuda()\n",
    "            "
   ]
  },
  {
   "cell_type": "code",
   "execution_count": 36,
   "metadata": {
    "collapsed": false
   },
   "outputs": [],
   "source": [
    "def adv_attack(net,loader= test_loader, epsilon= 0.1 ):\n",
    "    correct= 0\n",
    "    total= 0\n",
    "    sfmax = nn.Softmax(dim = 1)\n",
    "    mean_probs1 = 0\n",
    "    mean_probs2 = 0\n",
    "    for i , (x,y_true) in enumerate(test_loader):\n",
    "        x= torch.tensor(x.view(-1,28*28), requires_grad= True)\n",
    "        y_true= torch.tensor(y_true, requires_grad= False)\n",
    "        \n",
    "        #clear gradient w.r.t parameters\n",
    "        optimizer.zero_grad()\n",
    "        \n",
    "        # Forward pass to get output\n",
    "        outputs1= model(x)\n",
    "        ''' probs1 = sfmax(outputs1)\n",
    "        probs1 = probs1[list(range(len(y_true))), y_true]\n",
    "        mean_probs1 += torch.sum(probs1)'''\n",
    "        #Calculate loss: Softmax-> cross entropy loss\n",
    "        #first parameter must be net output and second parameter must be target \n",
    "        #loss= criterion(output, target)\n",
    "        loss= criterion(outputs1, y_true)\n",
    "        \n",
    "        #Getting gradients w.r.t parameters\n",
    "        loss.backward()\n",
    "        \n",
    "        #Add perturbation\n",
    "        x_grad= torch.sign(x.grad.data)\n",
    "        x_adversarial= torch.clamp(x.data + epsilon * x_grad, 0 ,1)\n",
    "       \n",
    "        #Let's now predict after perturbation\n",
    "        \n",
    "        outputs2 = model(x_adversarial)\n",
    "        _,y_preds_adversarial= torch.max(outputs2.data, 1)        \n",
    "        \n",
    "        probs2 = sfmax(outputs2)\n",
    "        probs2 = probs2[list(range(len(y_true))), y_preds_adversarial]\n",
    "        #print(probs2)\n",
    "        mean_probs2 += torch.sum(probs2)\n",
    "\n",
    "        total += y_true.size(0)\n",
    "        correct += (y_preds_adversarial == y_true).sum()\n",
    "\n",
    "\n",
    "\n",
    "    accuracy= 100.0 *correct/total\n",
    "    #mean_probs1 = mean_probs1 / total\n",
    "    mean_probs2 = mean_probs2 / total\n",
    "\n",
    "    print(\"epsilon: {} Adversarial Accuracy: {} Average confidence: {}\".format( epsilon,accuracy, mean_probs2.item()))\n",
    "        "
   ]
  },
  {
   "cell_type": "code",
   "execution_count": 54,
   "metadata": {
    "collapsed": false
   },
   "outputs": [
    {
     "name": "stdout",
     "output_type": "stream",
     "text": [
      "epsilon: 0.0 Adversarial Accuracy: 92 Average confidence: 0.921708881855011\n",
      "epsilon: 0.01 Adversarial Accuracy: 83 Average confidence: 0.8580259084701538\n",
      "epsilon: 0.02 Adversarial Accuracy: 64 Average confidence: 0.7953418493270874\n",
      "epsilon: 0.03 Adversarial Accuracy: 41 Average confidence: 0.7803449034690857\n",
      "epsilon: 0.04 Adversarial Accuracy: 22 Average confidence: 0.8106436729431152\n",
      "epsilon: 0.05 Adversarial Accuracy: 12 Average confidence: 0.8460173010826111\n",
      "epsilon: 0.06 Adversarial Accuracy: 7 Average confidence: 0.8731659054756165\n",
      "epsilon: 0.07 Adversarial Accuracy: 3 Average confidence: 0.8930716514587402\n",
      "epsilon: 0.08 Adversarial Accuracy: 1 Average confidence: 0.9068219661712646\n",
      "epsilon: 0.09 Adversarial Accuracy: 0 Average confidence: 0.9171125888824463\n",
      "epsilon: 0.1 Adversarial Accuracy: 0 Average confidence: 0.9243960976600647\n",
      "epsilon: 0.11 Adversarial Accuracy: 0 Average confidence: 0.9297208189964294\n",
      "epsilon: 0.12 Adversarial Accuracy: 0 Average confidence: 0.9336494207382202\n",
      "epsilon: 0.13 Adversarial Accuracy: 0 Average confidence: 0.9364854693412781\n",
      "epsilon: 0.14 Adversarial Accuracy: 0 Average confidence: 0.9386836886405945\n",
      "epsilon: 0.15 Adversarial Accuracy: 0 Average confidence: 0.9404038786888123\n",
      "epsilon: 0.16 Adversarial Accuracy: 0 Average confidence: 0.9419481158256531\n",
      "epsilon: 0.17 Adversarial Accuracy: 0 Average confidence: 0.9433494210243225\n",
      "epsilon: 0.18 Adversarial Accuracy: 0 Average confidence: 0.9446842670440674\n",
      "epsilon: 0.19 Adversarial Accuracy: 0 Average confidence: 0.9458786249160767\n",
      "epsilon: 0.2 Adversarial Accuracy: 0 Average confidence: 0.9468423128128052\n",
      "epsilon: 0.21 Adversarial Accuracy: 0 Average confidence: 0.9476796984672546\n",
      "epsilon: 0.22 Adversarial Accuracy: 0 Average confidence: 0.9482801556587219\n",
      "epsilon: 0.23 Adversarial Accuracy: 0 Average confidence: 0.9487788081169128\n",
      "epsilon: 0.24 Adversarial Accuracy: 0 Average confidence: 0.9493814706802368\n",
      "epsilon: 0.25 Adversarial Accuracy: 0 Average confidence: 0.9499866366386414\n"
     ]
    }
   ],
   "source": [
    "epsilon= [0.01 * i for i in range(26)]\n",
    "for eps in epsilon:\n",
    "    adv_attack(model, test_loader, eps)"
   ]
  },
  {
   "cell_type": "code",
   "execution_count": null,
   "metadata": {
    "collapsed": true
   },
   "outputs": [],
   "source": []
  }
 ],
 "metadata": {
  "anaconda-cloud": {},
  "kernelspec": {
   "display_name": "Python [Root]",
   "language": "python",
   "name": "Python [Root]"
  },
  "language_info": {
   "codemirror_mode": {
    "name": "ipython",
    "version": 3
   },
   "file_extension": ".py",
   "mimetype": "text/x-python",
   "name": "python",
   "nbconvert_exporter": "python",
   "pygments_lexer": "ipython3",
   "version": "3.5.4"
  }
 },
 "nbformat": 4,
 "nbformat_minor": 1
}
